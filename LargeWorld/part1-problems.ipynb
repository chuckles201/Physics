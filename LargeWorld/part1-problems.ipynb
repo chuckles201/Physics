{
 "cells": [
  {
   "cell_type": "markdown",
   "metadata": {},
   "source": [
    "Problems from each chapter that are revealing/useful."
   ]
  },
  {
   "cell_type": "markdown",
   "metadata": {},
   "source": [
    "## Measurement / Sharing\n",
    "\n",
    "    Suggest a way to measure an: atom (diameter), thickness of a sheet of paper, thickness of a soap bubble film.\n",
    "\n",
    "I would measure many papers and divide the thickness by the number of papers.\n",
    "\n",
    "With atoms, we could take a square block and measure the blocks mass. With the blocks mass, we could use knowledge handed down about the mass of an atom (more on this later) to calculate the number of atoms in the mass. With this, assuming the diameter of each atom touches (longest point), we can:\n",
    "- measure the length/height/width of the block, and calcualte the number of atoms along each of these surfaces (cube root of the # of atoms), and then just divide this measurement by the number of atoms!\n",
    "\n",
    "For a bubble, I would get a giant wand and poor 2 units cubed of water into the giant wand. Assuming no water was lost during the blowing, I know that the surface area would be the surface area divided by the volume, because to obtain 'the volume of the surface area' of the buble, we simply need its original consittuents."
   ]
  }
 ],
 "metadata": {
  "language_info": {
   "name": "python"
  }
 },
 "nbformat": 4,
 "nbformat_minor": 2
}
