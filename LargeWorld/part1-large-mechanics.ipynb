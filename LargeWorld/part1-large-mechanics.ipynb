{
 "cells": [
  {
   "cell_type": "markdown",
   "metadata": {},
   "source": [
    "Here is the beginning of understanding large-scale mechanics from scratch.\n",
    "\n",
    "The following chapter is from\n",
    "- Halliday"
   ]
  },
  {
   "cell_type": "markdown",
   "metadata": {},
   "source": [
    "# Measurement & Sharing 🧮\n",
    "\n",
    "A number line represents small quantifiable steps that allow us to count, multiply, divide, and add. We can extend this number line into two and three dimensions, and continue to do tricks with these numbers. This is mathematics. \n",
    "\n",
    "Mathematics inevtiably is used to describe the physical world; we can count things like money, model population growth, and eventually predict the motion and behavior of objects.\n",
    "\n",
    "Of course, we want to tell other people about our great models! As the king's surveyor, I would like to talk to the neighboring ally empire about the length of our shared enemies border, and their modeled population growth. \n",
    "\n",
    "Luckily, we have a shared number system, and can easily discuss estimates for their population. However, the ally proposes a distance of 10,000 for the enemies border, while we only measure a distance of 2!\n",
    "\n"
   ]
  },
  {
   "cell_type": "markdown",
   "metadata": {},
   "source": [
    "## Units ✏️\n",
    "\n",
    "We lack a fundamental definition of *units* for length. If scientists who make expiriements want to compare results, numbers are not enough, we need *units*.\n",
    "\n",
    "Units are *as arbitrary as* numbers. I have a pencil that is one pencil long, and it stays that way no matter where I am. This pencil now could become a fundamental unit of measurement, and now all other numbers can be derived from it, and we can finally reason about physical quantities.\n",
    "\n",
    "Beyond length, we might wish to measure the weight of our gold, or the surface area of things. As long as we have a reliable measure to compare, a basis/fundamental unit, we can reason about quantities of things in numbers.\n",
    "\n",
    "If we think about it, numbers themselves on a numberline are basically distances. Just when we give them a unit, they become meaningful. For example, it wouldn't be hard to beleif that a tribe in Africa would have a better time understanding mathematics, if we used numbers in terms of how many lions there where in the line of sight, rather than just arbitrary distances on a number line.\n",
    "\n",
    "In this way we can see how it is natural to express numbers with units."
   ]
  },
  {
   "cell_type": "markdown",
   "metadata": {},
   "source": [
    "## Natural Units 💫\n",
    "\n",
    "It can be helpful to define our 'fundamental unit' with a natural quantity, such as the speed of light, or the length of one proton (however that is measured). If we defined each and every measurement in terms of these unchanging, and not arbitrary, things, we could effectively communicate with aliens.\n",
    "\n",
    "If we define the speed of light to be 300 million meters per second, and define the second to be the half-life of some atom, we have a universal definition of both lights' speed and the length of a meter. Furthermore, it would be sensible if we measured the speed of light to such an astonishing degree, that we supercede the standard meter, and replace it with this measurement.\n",
    "\n",
    "Say we have an apparatus we'd like to define the meter with. A photon travels across and back, and we measure the time very precisely. Say we measure light to take *1 second* very accurately, we can now define the meter in terms of this! We just say a meter is the distance light travels in one second. And now any alien or scientist can repeat this, with a suffieciently accurate timer, to get the meter!"
   ]
  },
  {
   "cell_type": "markdown",
   "metadata": {},
   "source": [
    "## Combinations of Units 🦁🗺️\n",
    "\n",
    "I breifly mentioned it previously, but combinations of units are very important. They arise when we multiply, and divide things with different units mathematically. So, what is going on?\n",
    "\n",
    "We are trying to explain this to an African tribe, and we say, we want to be able to quantify how dangerous the area we're in is. The number of lions aren't enough to count, we need to know the size of the plot of land, and the number. Then we obtain a combination, or immergent quantity: the *density* of lions in our land. Many of these quantites appear, and they are absolutely essential for describing systems, and for understanding the nature of physics.\n",
    "\n",
    "When multiplying values, we also multiply the units, and when dividing values we divide units. Furthermore when we square them, we call them 'units squared', because the act of doing so introduces a fundamentally different quanitity, which is easier to still express in the same unit(think of area vs length of a line).\n",
    "\n",
    "The reason we do this is basically just to keep track of what we're measuring and talk about them. If we have $ DANGER = \\frac{Lions}{Miles^{2}}$, and another tribe comes up to us telling us about their DANGER $ = \\frac{Lions}{Miles^{3}} $, we know something is wrong. They are measuring the lions per volume of space, and we're measuring the lions per area. Assuming we have defined the same unit of lions, we must have overlooked the fact that lions actually live in clouds occasionaly, and we must factor that into our calculation."
   ]
  },
  {
   "cell_type": "markdown",
   "metadata": {},
   "source": [
    "## Dimensions\n",
    "\n",
    "Before talking about the culmanation of all this, dimensional analyis, I want to make a quick distinction between *units* and *dimensions*. Dimensions are the fundamental quantity we want to measure, think length, and units are the basis that we choose for our dimension (unit would be in meters or miles or inches, etc.)."
   ]
  },
  {
   "cell_type": "markdown",
   "metadata": {},
   "source": [
    "## Dimensional Analysis\n",
    "\n",
    "When we multiply and divide units, keeping their units as multiplied and divided with eachother can have unintended, good consequences.\n",
    "\n",
    "Our tribe decides that when lions and hyenas are in the same area, the danger goes up proportionally to the weight of the lions squared (in units of lions).\n",
    "\n",
    "We therefore, preform the calculation:\n",
    "\n",
    "$$ \n",
    "DANGER = \\frac{Lions^{2}}{Miles^{2}}\n",
    "$$\n",
    "\n",
    "and obtain a new unit that gives us our danger. However, a far away tribe has proposed a new formula for danger. They give us the dimensions:\n",
    "\n",
    "$$\n",
    "DANGER \\propto  \\frac{Weight^{2}}{Distance^{2}}\n",
    "$$\n",
    "\n",
    "but demand payment for the exact formula and measurements.\n",
    "\n",
    "But we are intelligent, and can understand that the other tribe has copied our formula! They could be using different units such as male lions for average weight, and meters instead of miles, but fundamentally we both understand the relationship, and therefore can communicate among ourselves, and understand relative dangers in our tribe.\n",
    "\n",
    "![lioncount](lioncount.webp)"
   ]
  },
  {
   "cell_type": "markdown",
   "metadata": {},
   "source": []
  }
 ],
 "metadata": {
  "language_info": {
   "name": "python"
  }
 },
 "nbformat": 4,
 "nbformat_minor": 2
}
